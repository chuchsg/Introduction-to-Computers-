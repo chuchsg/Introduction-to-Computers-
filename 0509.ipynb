{
  "nbformat": 4,
  "nbformat_minor": 0,
  "metadata": {
    "colab": {
      "name": "0509.ipynb",
      "provenance": [],
      "authorship_tag": "ABX9TyNlb5q/nEbSe9v4LrY7JJoC",
      "include_colab_link": true
    },
    "kernelspec": {
      "name": "python3",
      "display_name": "Python 3"
    },
    "language_info": {
      "name": "python"
    }
  },
  "cells": [
    {
      "cell_type": "markdown",
      "metadata": {
        "id": "view-in-github",
        "colab_type": "text"
      },
      "source": [
        "<a href=\"https://colab.research.google.com/github/chuchsg/Introduction-to-Computers-/blob/main/0509.ipynb\" target=\"_parent\"><img src=\"https://colab.research.google.com/assets/colab-badge.svg\" alt=\"Open In Colab\"/></a>"
      ]
    },
    {
      "cell_type": "code",
      "execution_count": 13,
      "metadata": {
        "id": "PFK7dSt73gIh",
        "colab": {
          "base_uri": "https://localhost:8080/"
        },
        "outputId": "95222db3-8e80-4f3c-ef7e-cc938d91e81c"
      },
      "outputs": [
        {
          "output_type": "stream",
          "name": "stdout",
          "text": [
            "請輸入你的體溫36.9\n",
            "體溫正常!\n"
          ]
        }
      ],
      "source": [
        "tep = float(input(\"請輸入你的體溫\"))\n",
        "\n",
        "if tep >= 37.5: \n",
        "  print(\"體溫過高!\")\n",
        "elif tep >= 37 and tep < 37.4:\n",
        "  print(\"體溫略高!\")\n",
        "elif tep >= 34 and tep <= 36.9:\n",
        "  print(\"體溫正常!\")\n",
        "else: \n",
        "  print(\"體溫異常,請重新量測!\")"
      ]
    },
    {
      "cell_type": "code",
      "source": [
        "grade = int(input(\"請輸入成績\"))\n",
        "\n",
        "if grade >= 90:\n",
        "  print(\"A\")\n",
        "elif grade >=80 and grade <=89:              \n",
        "  print(\"B\")\n",
        "elif grade >=70 and grade <=79:\n",
        "  print(\"C\")\n",
        "elif grade >=60 and grade <=69:\n",
        "  print(\"D\")\n",
        "else: \n",
        "  print(\"E\")"
      ],
      "metadata": {
        "colab": {
          "base_uri": "https://localhost:8080/"
        },
        "id": "UQfQBD32_iUQ",
        "outputId": "c8a45aaa-450f-491d-a7eb-19464322a214"
      },
      "execution_count": 18,
      "outputs": [
        {
          "output_type": "stream",
          "name": "stdout",
          "text": [
            "請輸入成績50\n",
            "E\n"
          ]
        }
      ]
    },
    {
      "cell_type": "code",
      "source": [
        "cost = int(input(\"請輸入購物金額:\"))\n",
        "\n",
        "if cost >= 10000:\n",
        "  if cost >= 100000: \n",
        "    print(\"八折\", cost*0.8, end = \"元\\n\")\n",
        "  elif cost >= 50000:\n",
        "    print(\"八五折\", cost*0.85, end = \"元\\n\")\n",
        "  elif cost >= 30000:\n",
        "    print(\"九折\", cost*0.9, end = \"元\\n\")\n",
        "  else:\n",
        "    print(\"九五折\", cost*0.95, end = \"元\\n\")\n",
        "else:\n",
        "  print(\"沒打折\", cost, end = \"元\\n\")"
      ],
      "metadata": {
        "colab": {
          "base_uri": "https://localhost:8080/"
        },
        "id": "SeED_cQbElkn",
        "outputId": "8f74b879-b9dc-41b9-c73f-d535f969fdd6"
      },
      "execution_count": 24,
      "outputs": [
        {
          "output_type": "stream",
          "name": "stdout",
          "text": [
            "請輸入購物金額:11000\n",
            "九五折 10450.0元\n"
          ]
        }
      ]
    },
    {
      "cell_type": "code",
      "source": [
        "season = int(input(\"請輸入月份\"))\n",
        "\n",
        "if season >= 3 and  season <= 5:\n",
        "  print(season, \"月是春天!\", sep = \"\")\n",
        "elif season >= 6 and  season <= 8:  \n",
        "  print(season, \"月是夏天!\", sep = \"\")\n",
        "elif season >= 9 and season <= 11:\n",
        "  print(season, \"月是秋天!\", sep = \"\")\n",
        "elif season >= 1 and season <= 12:\n",
        "  print(season, \"月是冬天!\", sep = \"\")\n",
        "else:\n",
        "  print(\"月份不在範圍內!\")"
      ],
      "metadata": {
        "colab": {
          "base_uri": "https://localhost:8080/"
        },
        "id": "2Ur-kJ9jHWnY",
        "outputId": "b4fdd535-98c9-440c-fe7f-8d39b3a81051"
      },
      "execution_count": 48,
      "outputs": [
        {
          "output_type": "stream",
          "name": "stdout",
          "text": [
            "請輸入月份12\n",
            "12月是冬天!\n"
          ]
        }
      ]
    },
    {
      "cell_type": "code",
      "source": [
        "money = int(input(\"請輸入今年收入淨額:\"))\n",
        "\n",
        "if money >= 2000000:\n",
        "  print(\"付稅金額:\", money*0.3, end = \"元\\n\")\n",
        "elif money >= 1000000:\n",
        "  print(\"付稅金額:\", money*0.21, end = \"元\\n\")\n",
        "elif money >= 600000:\n",
        "  print(\"付稅金額:\", money*0.13, end = \"元\\n\")\n",
        "elif money >= 300000:\n",
        "  print(\"付稅金額:\", money*0.06, end = \"元\\n\")\n",
        "else:\n",
        "  print(\"付稅金額:\", money*0, end = \"元\\n\")"
      ],
      "metadata": {
        "colab": {
          "base_uri": "https://localhost:8080/"
        },
        "id": "jPiIrFvMIlhg",
        "outputId": "6ed3ea2c-ce3a-4e57-d426-2cb65828ccbf"
      },
      "execution_count": 54,
      "outputs": [
        {
          "output_type": "stream",
          "name": "stdout",
          "text": [
            "請輸入今年收入淨額:2000000\n",
            "付稅金額: 600000.0元\n"
          ]
        }
      ]
    }
  ]
}