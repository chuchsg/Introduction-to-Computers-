{
  "nbformat": 4,
  "nbformat_minor": 0,
  "metadata": {
    "colab": {
      "name": "0606ipynb",
      "provenance": [],
      "authorship_tag": "ABX9TyPW4kgHktoYlHG1WTIASkAE",
      "include_colab_link": true
    },
    "kernelspec": {
      "name": "python3",
      "display_name": "Python 3"
    },
    "language_info": {
      "name": "python"
    }
  },
  "cells": [
    {
      "cell_type": "markdown",
      "metadata": {
        "id": "view-in-github",
        "colab_type": "text"
      },
      "source": [
        "<a href=\"https://colab.research.google.com/github/chuchsg/Introduction-to-Computers-/blob/main/0606ipynb.ipynb\" target=\"_parent\"><img src=\"https://colab.research.google.com/assets/colab-badge.svg\" alt=\"Open In Colab\"/></a>"
      ]
    },
    {
      "cell_type": "code",
      "execution_count": 1,
      "metadata": {
        "colab": {
          "base_uri": "https://localhost:8080/"
        },
        "id": "xxjoVkAiC9Z_",
        "outputId": "f822f09c-efa1-4952-ac0d-1abcd5a1b66b"
      },
      "outputs": [
        {
          "output_type": "stream",
          "name": "stdout",
          "text": [
            "0~50的偶數和結果是650\n"
          ]
        }
      ],
      "source": [
        "i = 0\n",
        "result = 0\n",
        "while i <= 50:\n",
        "  if i % 2 == 0:\n",
        "    result += i\n",
        "  i += 1\n",
        "print(\"0~50的偶數和結果是%d\" %result)"
      ]
    },
    {
      "cell_type": "code",
      "source": [
        "i = 0\n",
        "result = 0\n",
        "while i <= 50:\n",
        "  if i % 2 != 0:\n",
        "    result += i\n",
        "  i += 1\n",
        "print(\"0~50的奇數和結果是%d\" %result)"
      ],
      "metadata": {
        "colab": {
          "base_uri": "https://localhost:8080/"
        },
        "id": "WjGNsJ6AF_QL",
        "outputId": "c67b4af5-ca74-44a0-850d-771165155f4d"
      },
      "execution_count": 2,
      "outputs": [
        {
          "output_type": "stream",
          "name": "stdout",
          "text": [
            "0~50的奇數和結果是625\n"
          ]
        }
      ]
    },
    {
      "cell_type": "code",
      "source": [
        "n = int(input(\"請輸入正整數:\"))\n",
        "for i in range(1, n+1):\n",
        "  for j in range(i, n+1):\n",
        "    print(\"*\", end = \"\")\n",
        "  print()"
      ],
      "metadata": {
        "colab": {
          "base_uri": "https://localhost:8080/"
        },
        "id": "7WbS1ZxqGbIE",
        "outputId": "1f03b49e-21a8-4dc3-cb62-dba5b5865f32"
      },
      "execution_count": 4,
      "outputs": [
        {
          "output_type": "stream",
          "name": "stdout",
          "text": [
            "請輸入正整數:10\n",
            "**********\n",
            "*********\n",
            "********\n",
            "*******\n",
            "******\n",
            "*****\n",
            "****\n",
            "***\n",
            "**\n",
            "*\n"
          ]
        }
      ]
    },
    {
      "cell_type": "code",
      "source": [
        "sum = 0\n",
        "for i in range(0,101):\n",
        "  if i%3==0 or i%7==0:\n",
        "    sum += i\n",
        "print(\"數值 1~100 中，所有是 3 或 7 倍數的數之總和 =\", sum)"
      ],
      "metadata": {
        "colab": {
          "base_uri": "https://localhost:8080/"
        },
        "id": "FOK7FFtvIKL0",
        "outputId": "abc22ee1-8d22-44cb-b632-5429a4d077d4"
      },
      "execution_count": 5,
      "outputs": [
        {
          "output_type": "stream",
          "name": "stdout",
          "text": [
            "數值 1~100 中，所有是 3 或 7 倍數的數之總和 = 2208\n"
          ]
        }
      ]
    },
    {
      "cell_type": "code",
      "source": [
        "p = 1\n",
        "counter = 0\n",
        "n = int(input(\"請輸入正整數:\"))\n",
        "print(n, \"的因數有\", end=\" \")\n",
        "\n",
        "while p <= n:\n",
        "  if n % p == 0:\n",
        "    print(p, end=\" \")\n",
        "    counter += 1\n",
        "  p += 1\n",
        "\n",
        "print()\n",
        "if counter == 2:\n",
        "  print(n, \"是質數\")\n",
        "else:\n",
        "  print(n, \"不是質數\")"
      ],
      "metadata": {
        "colab": {
          "base_uri": "https://localhost:8080/"
        },
        "id": "xhEdgXASJTYz",
        "outputId": "3ac600ba-b64b-45fb-8e78-3620a37c817e"
      },
      "execution_count": 7,
      "outputs": [
        {
          "output_type": "stream",
          "name": "stdout",
          "text": [
            "請輸入正整數:1\n",
            "1 的因數有 1 \n",
            "1 不是質數\n"
          ]
        }
      ]
    },
    {
      "cell_type": "code",
      "source": [
        "list1 = [1,2,3,4,5]"
      ],
      "metadata": {
        "id": "qs39s4GuLYQb"
      },
      "execution_count": 8,
      "outputs": []
    },
    {
      "cell_type": "code",
      "source": [
        "list1"
      ],
      "metadata": {
        "colab": {
          "base_uri": "https://localhost:8080/"
        },
        "id": "VQN6kOAYLwvK",
        "outputId": "397e534b-01cd-4e38-ab34-dcffbec5c5ad"
      },
      "execution_count": 9,
      "outputs": [
        {
          "output_type": "execute_result",
          "data": {
            "text/plain": [
              "[1, 2, 3, 4, 5]"
            ]
          },
          "metadata": {},
          "execution_count": 9
        }
      ]
    },
    {
      "cell_type": "code",
      "source": [
        "list2 = [\"香蕉\",\"蘋果\",\"橘子\"]"
      ],
      "metadata": {
        "id": "ia3qd4uyMHaV"
      },
      "execution_count": 10,
      "outputs": []
    },
    {
      "cell_type": "code",
      "source": [
        "list2"
      ],
      "metadata": {
        "colab": {
          "base_uri": "https://localhost:8080/"
        },
        "id": "zuBpwFy-MVP1",
        "outputId": "a1686777-2119-4dfe-bcc0-407820d62d67"
      },
      "execution_count": 11,
      "outputs": [
        {
          "output_type": "execute_result",
          "data": {
            "text/plain": [
              "['香蕉', '蘋果', '橘子']"
            ]
          },
          "metadata": {},
          "execution_count": 11
        }
      ]
    },
    {
      "cell_type": "code",
      "source": [
        "list3 = [1,\"香蕉\",True]"
      ],
      "metadata": {
        "id": "QggI2R6QMZX1"
      },
      "execution_count": 14,
      "outputs": []
    },
    {
      "cell_type": "code",
      "source": [
        "list3"
      ],
      "metadata": {
        "colab": {
          "base_uri": "https://localhost:8080/"
        },
        "id": "TBEH_5jhMiXl",
        "outputId": "7b7767f3-3284-4de2-afc8-9029d091bda9"
      },
      "execution_count": 15,
      "outputs": [
        {
          "output_type": "execute_result",
          "data": {
            "text/plain": [
              "[1, '香蕉', True]"
            ]
          },
          "metadata": {},
          "execution_count": 15
        }
      ]
    },
    {
      "cell_type": "code",
      "source": [
        "print(list1)"
      ],
      "metadata": {
        "colab": {
          "base_uri": "https://localhost:8080/"
        },
        "id": "EPNbpY57Mscs",
        "outputId": "9eab49e0-3337-4e45-fddf-9cf3fb2f951b"
      },
      "execution_count": 16,
      "outputs": [
        {
          "output_type": "stream",
          "name": "stdout",
          "text": [
            "[1, 2, 3, 4, 5]\n"
          ]
        }
      ]
    },
    {
      "cell_type": "code",
      "source": [
        "print(list1[0])"
      ],
      "metadata": {
        "colab": {
          "base_uri": "https://localhost:8080/"
        },
        "id": "J70hTL7rNFqg",
        "outputId": "d6c1877f-3eb8-41bb-c0f5-e43cdb84a475"
      },
      "execution_count": 17,
      "outputs": [
        {
          "output_type": "stream",
          "name": "stdout",
          "text": [
            "1\n"
          ]
        }
      ]
    },
    {
      "cell_type": "code",
      "source": [
        "print(list1[1])"
      ],
      "metadata": {
        "colab": {
          "base_uri": "https://localhost:8080/"
        },
        "id": "LH_NoC5DNLPO",
        "outputId": "38bd4186-6e9e-4541-86f4-67692d17474a"
      },
      "execution_count": 18,
      "outputs": [
        {
          "output_type": "stream",
          "name": "stdout",
          "text": [
            "2\n"
          ]
        }
      ]
    },
    {
      "cell_type": "code",
      "source": [
        "print(list1[0])\n",
        "print(list1[1])\n",
        "print(list1[2])\n",
        "print(list1[3])\n",
        "print(list1[4])"
      ],
      "metadata": {
        "colab": {
          "base_uri": "https://localhost:8080/"
        },
        "id": "t1R9y-kcNO29",
        "outputId": "5d814867-9032-48d8-8e58-a086886a1db2"
      },
      "execution_count": 19,
      "outputs": [
        {
          "output_type": "stream",
          "name": "stdout",
          "text": [
            "1\n",
            "2\n",
            "3\n",
            "4\n",
            "5\n"
          ]
        }
      ]
    },
    {
      "cell_type": "code",
      "source": [
        "list4 = [\"香蕉\",\"蘋果\",\"橘子\"]"
      ],
      "metadata": {
        "id": "Z24UAi9eNiBu"
      },
      "execution_count": 20,
      "outputs": []
    },
    {
      "cell_type": "code",
      "source": [
        "print(list4[1])"
      ],
      "metadata": {
        "colab": {
          "base_uri": "https://localhost:8080/"
        },
        "id": "ZXN5OEMhNkeM",
        "outputId": "cff2f953-fc67-4223-c9ef-7bbe7be65cd0"
      },
      "execution_count": 21,
      "outputs": [
        {
          "output_type": "stream",
          "name": "stdout",
          "text": [
            "蘋果\n"
          ]
        }
      ]
    },
    {
      "cell_type": "code",
      "source": [
        "print(list4[0])\n",
        "print(list4[1])\n",
        "print(list4[2])"
      ],
      "metadata": {
        "colab": {
          "base_uri": "https://localhost:8080/"
        },
        "id": "ia5eVOOCNyrV",
        "outputId": "9089400b-6f6e-482b-e36b-ec0c3b31a81f"
      },
      "execution_count": 22,
      "outputs": [
        {
          "output_type": "stream",
          "name": "stdout",
          "text": [
            "香蕉\n",
            "蘋果\n",
            "橘子\n"
          ]
        }
      ]
    },
    {
      "cell_type": "code",
      "source": [
        "print(list4[3])"
      ],
      "metadata": {
        "colab": {
          "base_uri": "https://localhost:8080/",
          "height": 167
        },
        "id": "cpKMdFOdOJJ1",
        "outputId": "351fdeb1-e5ad-406e-ea04-8e507d2fcc05"
      },
      "execution_count": 23,
      "outputs": [
        {
          "output_type": "error",
          "ename": "IndexError",
          "evalue": "ignored",
          "traceback": [
            "\u001b[0;31m---------------------------------------------------------------------------\u001b[0m",
            "\u001b[0;31mIndexError\u001b[0m                                Traceback (most recent call last)",
            "\u001b[0;32m<ipython-input-23-9576ac69e6be>\u001b[0m in \u001b[0;36m<module>\u001b[0;34m()\u001b[0m\n\u001b[0;32m----> 1\u001b[0;31m \u001b[0mprint\u001b[0m\u001b[0;34m(\u001b[0m\u001b[0mlist4\u001b[0m\u001b[0;34m[\u001b[0m\u001b[0;36m3\u001b[0m\u001b[0;34m]\u001b[0m\u001b[0;34m)\u001b[0m\u001b[0;34m\u001b[0m\u001b[0;34m\u001b[0m\u001b[0m\n\u001b[0m",
            "\u001b[0;31mIndexError\u001b[0m: list index out of range"
          ]
        }
      ]
    },
    {
      "cell_type": "code",
      "source": [
        "print(list4[-1])"
      ],
      "metadata": {
        "colab": {
          "base_uri": "https://localhost:8080/"
        },
        "id": "26heeduTOnwm",
        "outputId": "5df7904a-849a-48a8-a091-4bd9d9ee4943"
      },
      "execution_count": 24,
      "outputs": [
        {
          "output_type": "stream",
          "name": "stdout",
          "text": [
            "橘子\n"
          ]
        }
      ]
    },
    {
      "cell_type": "code",
      "source": [
        "print(list4[-2])"
      ],
      "metadata": {
        "colab": {
          "base_uri": "https://localhost:8080/"
        },
        "id": "PSF0dze7OtJ8",
        "outputId": "e998e1e7-de7a-411b-f56f-d04ec3392e36"
      },
      "execution_count": 25,
      "outputs": [
        {
          "output_type": "stream",
          "name": "stdout",
          "text": [
            "蘋果\n"
          ]
        }
      ]
    },
    {
      "cell_type": "code",
      "source": [
        "print(list4[-3])"
      ],
      "metadata": {
        "colab": {
          "base_uri": "https://localhost:8080/"
        },
        "id": "nSGLTSW1OwE1",
        "outputId": "09a3a31c-bdf5-42bf-e320-6e281485102c"
      },
      "execution_count": 26,
      "outputs": [
        {
          "output_type": "stream",
          "name": "stdout",
          "text": [
            "香蕉\n"
          ]
        }
      ]
    },
    {
      "cell_type": "code",
      "source": [
        "print(list4[-4])"
      ],
      "metadata": {
        "colab": {
          "base_uri": "https://localhost:8080/",
          "height": 167
        },
        "id": "Gjrw4CkdOykE",
        "outputId": "2d8d363b-42f1-4614-e4d0-c5bb77d5ed83"
      },
      "execution_count": 27,
      "outputs": [
        {
          "output_type": "error",
          "ename": "IndexError",
          "evalue": "ignored",
          "traceback": [
            "\u001b[0;31m---------------------------------------------------------------------------\u001b[0m",
            "\u001b[0;31mIndexError\u001b[0m                                Traceback (most recent call last)",
            "\u001b[0;32m<ipython-input-27-0c21896b40b4>\u001b[0m in \u001b[0;36m<module>\u001b[0;34m()\u001b[0m\n\u001b[0;32m----> 1\u001b[0;31m \u001b[0mprint\u001b[0m\u001b[0;34m(\u001b[0m\u001b[0mlist4\u001b[0m\u001b[0;34m[\u001b[0m\u001b[0;34m-\u001b[0m\u001b[0;36m4\u001b[0m\u001b[0;34m]\u001b[0m\u001b[0;34m)\u001b[0m\u001b[0;34m\u001b[0m\u001b[0;34m\u001b[0m\u001b[0m\n\u001b[0m",
            "\u001b[0;31mIndexError\u001b[0m: list index out of range"
          ]
        }
      ]
    },
    {
      "cell_type": "code",
      "source": [
        "list5 = [[\"tom\",\"1234\"]],[\"mary\",\"abcd\"],[\"david\",\"5678\"]"
      ],
      "metadata": {
        "id": "JXVMtbj5PJTw"
      },
      "execution_count": 32,
      "outputs": []
    },
    {
      "cell_type": "code",
      "source": [
        "print(list5[1])"
      ],
      "metadata": {
        "colab": {
          "base_uri": "https://localhost:8080/"
        },
        "id": "Hcka01RHP7a2",
        "outputId": "0eb0003d-8341-4c36-f824-308d8dbce4ec"
      },
      "execution_count": 33,
      "outputs": [
        {
          "output_type": "stream",
          "name": "stdout",
          "text": [
            "['mary', 'abcd']\n"
          ]
        }
      ]
    },
    {
      "cell_type": "code",
      "source": [
        "print(list5[0])"
      ],
      "metadata": {
        "colab": {
          "base_uri": "https://localhost:8080/"
        },
        "id": "iWFpvWdtQAzs",
        "outputId": "9ca654c1-2804-475b-d859-a6b6642d1f60"
      },
      "execution_count": 34,
      "outputs": [
        {
          "output_type": "stream",
          "name": "stdout",
          "text": [
            "[['tom', '1234']]\n"
          ]
        }
      ]
    },
    {
      "cell_type": "code",
      "source": [
        "print(list5[1][1])"
      ],
      "metadata": {
        "colab": {
          "base_uri": "https://localhost:8080/"
        },
        "id": "x2c9xYThQEA-",
        "outputId": "41e1b542-a607-4e71-93ba-72f43235d353"
      },
      "execution_count": 35,
      "outputs": [
        {
          "output_type": "stream",
          "name": "stdout",
          "text": [
            "abcd\n"
          ]
        }
      ]
    },
    {
      "cell_type": "code",
      "source": [
        "print(list5[0])"
      ],
      "metadata": {
        "colab": {
          "base_uri": "https://localhost:8080/"
        },
        "id": "TwSE58geQeql",
        "outputId": "947a425e-89ac-47a0-ebba-ef7d651eb066"
      },
      "execution_count": 36,
      "outputs": [
        {
          "output_type": "stream",
          "name": "stdout",
          "text": [
            "[['tom', '1234']]\n"
          ]
        }
      ]
    },
    {
      "cell_type": "code",
      "source": [
        "print(list5[0][0])"
      ],
      "metadata": {
        "colab": {
          "base_uri": "https://localhost:8080/"
        },
        "id": "1wme6e-WQl_F",
        "outputId": "f1c76430-3e4f-41ba-a503-9e7637161103"
      },
      "execution_count": 37,
      "outputs": [
        {
          "output_type": "stream",
          "name": "stdout",
          "text": [
            "['tom', '1234']\n"
          ]
        }
      ]
    },
    {
      "cell_type": "code",
      "source": [
        "print(list5[0][0])"
      ],
      "metadata": {
        "colab": {
          "base_uri": "https://localhost:8080/"
        },
        "id": "Y3INh43KQr52",
        "outputId": "0a7fa5e0-efe2-4a12-f671-eecc9da5b372"
      },
      "execution_count": 38,
      "outputs": [
        {
          "output_type": "stream",
          "name": "stdout",
          "text": [
            "['tom', '1234']\n"
          ]
        }
      ]
    },
    {
      "cell_type": "code",
      "source": [
        "print(list5[1][0])"
      ],
      "metadata": {
        "colab": {
          "base_uri": "https://localhost:8080/"
        },
        "id": "AYg3dhIZQvLN",
        "outputId": "e5c942c4-d012-4423-c8f7-3fbf8d9464e3"
      },
      "execution_count": 39,
      "outputs": [
        {
          "output_type": "stream",
          "name": "stdout",
          "text": [
            "mary\n"
          ]
        }
      ]
    },
    {
      "cell_type": "code",
      "source": [
        "score = [85,79,93]\n",
        "print(\"國文成績: %d分\" %score[0])\n",
        "print(\"數學成績: %d分\" %score[1])\n",
        "print(\"英文成績: %d分\" %score[2])"
      ],
      "metadata": {
        "colab": {
          "base_uri": "https://localhost:8080/"
        },
        "id": "Ct3iNa-mRBvm",
        "outputId": "2cfb0cda-4ecd-4456-8032-87f25828de4b"
      },
      "execution_count": 41,
      "outputs": [
        {
          "output_type": "stream",
          "name": "stdout",
          "text": [
            "國文成績: 85分\n",
            "數學成績: 79分\n",
            "英文成績: 93分\n"
          ]
        }
      ]
    },
    {
      "cell_type": "code",
      "source": [
        "list6 = [1,2,3,4,5]"
      ],
      "metadata": {
        "id": "Ryn4nActTQ8u"
      },
      "execution_count": 51,
      "outputs": []
    },
    {
      "cell_type": "code",
      "source": [
        "print(list6[0])"
      ],
      "metadata": {
        "colab": {
          "base_uri": "https://localhost:8080/"
        },
        "id": "5v2RzEIpTXAO",
        "outputId": "a60c7072-c20f-4891-bcca-1b98adb891bb"
      },
      "execution_count": 52,
      "outputs": [
        {
          "output_type": "stream",
          "name": "stdout",
          "text": [
            "1\n"
          ]
        }
      ]
    },
    {
      "cell_type": "code",
      "source": [
        "list6[0] = 9"
      ],
      "metadata": {
        "id": "lb48eU_LTi7G"
      },
      "execution_count": 53,
      "outputs": []
    },
    {
      "cell_type": "code",
      "source": [
        "print(list6[0])"
      ],
      "metadata": {
        "colab": {
          "base_uri": "https://localhost:8080/"
        },
        "id": "oT3Zi4JGTpqN",
        "outputId": "bd879673-74ea-4263-f912-c7262c80f032"
      },
      "execution_count": 54,
      "outputs": [
        {
          "output_type": "stream",
          "name": "stdout",
          "text": [
            "9\n"
          ]
        }
      ]
    },
    {
      "cell_type": "code",
      "source": [
        "print(list6)"
      ],
      "metadata": {
        "colab": {
          "base_uri": "https://localhost:8080/"
        },
        "id": "xIC20LOrTsCV",
        "outputId": "755493f1-caae-481f-d106-a04bed195d58"
      },
      "execution_count": 55,
      "outputs": [
        {
          "output_type": "stream",
          "name": "stdout",
          "text": [
            "[9, 2, 3, 4, 5]\n"
          ]
        }
      ]
    },
    {
      "cell_type": "code",
      "source": [
        "list7 = [\"香蕉\",\"蘋果\",\"橘子\"]"
      ],
      "metadata": {
        "id": "oA1xRc01UDrX"
      },
      "execution_count": 56,
      "outputs": []
    },
    {
      "cell_type": "code",
      "source": [
        "for s in list7:\n",
        "  print(s, end=\",\")"
      ],
      "metadata": {
        "colab": {
          "base_uri": "https://localhost:8080/"
        },
        "id": "KorehU_iUNUH",
        "outputId": "e8ff0e03-21ce-47f4-880b-7a9abc6a3f29"
      },
      "execution_count": 58,
      "outputs": [
        {
          "output_type": "stream",
          "name": "stdout",
          "text": [
            "香蕉,蘋果,橘子,"
          ]
        }
      ]
    },
    {
      "cell_type": "code",
      "source": [
        "item = [123,\"apple\",True]"
      ],
      "metadata": {
        "id": "Pf_mPtMIU27P"
      },
      "execution_count": 61,
      "outputs": []
    },
    {
      "cell_type": "code",
      "source": [
        "for s in item:\n",
        "  print(s)"
      ],
      "metadata": {
        "colab": {
          "base_uri": "https://localhost:8080/"
        },
        "id": "WDXfGs4SVEuw",
        "outputId": "6b9def00-1192-4566-e80f-81432094a343"
      },
      "execution_count": 62,
      "outputs": [
        {
          "output_type": "stream",
          "name": "stdout",
          "text": [
            "123\n",
            "apple\n",
            "True\n"
          ]
        }
      ]
    },
    {
      "cell_type": "code",
      "source": [
        "score = [85,79,93]"
      ],
      "metadata": {
        "id": "ExhiZusoWXuQ"
      },
      "execution_count": 66,
      "outputs": []
    },
    {
      "cell_type": "code",
      "source": [
        "print(len(score))"
      ],
      "metadata": {
        "colab": {
          "base_uri": "https://localhost:8080/"
        },
        "id": "fRR5lfrfWd1X",
        "outputId": "ea9af710-f1f7-436e-85dc-02454a858713"
      },
      "execution_count": 67,
      "outputs": [
        {
          "output_type": "stream",
          "name": "stdout",
          "text": [
            "3\n"
          ]
        }
      ]
    },
    {
      "cell_type": "code",
      "source": [
        "score = [85,79,93]\n",
        "for i in range(len(score)):\n",
        "  print(score[i])"
      ],
      "metadata": {
        "colab": {
          "base_uri": "https://localhost:8080/"
        },
        "id": "KSOp7E0JWiXF",
        "outputId": "3f13f068-51c7-4723-9c49-8f2730382134"
      },
      "execution_count": 68,
      "outputs": [
        {
          "output_type": "stream",
          "name": "stdout",
          "text": [
            "85\n",
            "79\n",
            "93\n"
          ]
        }
      ]
    },
    {
      "cell_type": "code",
      "source": [
        "subject = [\"國文\",\"數學\",\"英文\"]\n",
        "score = [85,79,93]\n",
        "\n",
        "for i in range(len(score)):\n",
        "  print(\"%s成績:%d分\" %(subject[i],score[i]))"
      ],
      "metadata": {
        "colab": {
          "base_uri": "https://localhost:8080/"
        },
        "id": "rEocCwGzXwf3",
        "outputId": "9349e095-2955-473e-d738-864687a672e4"
      },
      "execution_count": 84,
      "outputs": [
        {
          "output_type": "stream",
          "name": "stdout",
          "text": [
            "國文成績:85分\n",
            "數學成績:79分\n",
            "英文成績:93分\n"
          ]
        }
      ]
    },
    {
      "cell_type": "code",
      "source": [
        "number = [1,2,3]\n",
        "name = [\"Tom\",\"Mary\",\"Tony\"]\n",
        "\n",
        "for i in range(len(number)):\n",
        "  print(\"編號:%d 姓名: %s\" %(number[i],name[i]))"
      ],
      "metadata": {
        "colab": {
          "base_uri": "https://localhost:8080/"
        },
        "id": "HrHvZRXnZvEQ",
        "outputId": "621daed7-7dc4-479e-8906-bc2d9ffe077c"
      },
      "execution_count": 86,
      "outputs": [
        {
          "output_type": "stream",
          "name": "stdout",
          "text": [
            "編號:1 姓名: Tom\n",
            "編號:2 姓名: Mary\n",
            "編號:3 姓名: Tony\n"
          ]
        }
      ]
    }
  ]
}